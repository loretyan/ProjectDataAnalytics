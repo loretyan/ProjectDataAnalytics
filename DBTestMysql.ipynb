{
 "cells": [
  {
   "cell_type": "markdown",
   "metadata": {},
   "source": [
    "## Libraries and settings"
   ]
  },
  {
   "cell_type": "code",
   "execution_count": 9,
   "metadata": {},
   "outputs": [
    {
     "name": "stdout",
     "output_type": "stream",
     "text": [
      "/workspaces/ProjectDataAnalytics\n"
     ]
    }
   ],
   "source": [
    "# Libraries\n",
    "import os\n",
    "import mysql.connector\n",
    "from mysql.connector import Error\n",
    "from mysql import connector\n",
    "import fnmatch\n",
    "import numpy as np\n",
    "import pandas as pd\n",
    "import matplotlib.pyplot as plt\n",
    "\n",
    "\n",
    "# Ignore warnings\n",
    "import warnings\n",
    "warnings.filterwarnings(\"ignore\")\n",
    "\n",
    "# Function to close a sqlite db-connection\n",
    "def check_conn(conn):\n",
    "     try:\n",
    "        conn.cursor()\n",
    "        return True\n",
    "     except Exception as ex:\n",
    "        return False\n",
    "\n",
    "# Get current working directory\n",
    "print(os.getcwd())"
   ]
  },
  {
   "cell_type": "markdown",
   "metadata": {},
   "source": [
    "## Create mysql data base"
   ]
  },
  {
   "cell_type": "code",
   "execution_count": 18,
   "metadata": {},
   "outputs": [
    {
     "name": "stdout",
     "output_type": "stream",
     "text": [
      "Fehler: 2003: Can't connect to MySQL server on '127.0.0.1:3306' (Errno 111: Connection refused)\n"
     ]
    }
   ],
   "source": [
    "# Verbindung zur MySQL-Datenbank herstellen\n",
    "import mysql.connector\n",
    "from mysql.connector import Error\n",
    "\n",
    "def create_connection():\n",
    "    try:\n",
    "        connection = mysql.connector.connect(\n",
    "            host=\"127\",\n",
    "            user=\"root\",\n",
    "            password=\"EIERLECKE\",\n",
    "            database = \"football\",\n",
    "            port=3306,\n",
    "            connection_timeout=10,\n",
    "            use_pure=True  # Verbindet direkt per TCP/IP\n",
    "        )\n",
    "        cursor = connection.cursor()\n",
    "        cursor.execute(\"CREATE DATABASE IF NOT EXISTS db_test\")\n",
    "        cursor.execute(\"USE db_test\")\n",
    "        cursor.execute('''\n",
    "            CREATE TABLE IF NOT EXISTS example_table (\n",
    "                id INT AUTO_INCREMENT PRIMARY KEY,\n",
    "                name VARCHAR(255),\n",
    "                value INT\n",
    "            )\n",
    "        ''')\n",
    "        connection.commit()\n",
    "        print(\"Datenbank und Tabelle erfolgreich erstellt!\")\n",
    "        return connection\n",
    "\n",
    "    except mysql.connector.Error as err:\n",
    "        print(f\"Fehler: {err}\")\n",
    "        return None\n",
    "\n",
    "# Verbindung herstellen und schließen\n",
    "conn = create_connection()\n",
    "if conn:\n",
    "    conn.close()"
   ]
  },
  {
   "cell_type": "markdown",
   "metadata": {},
   "source": [
    "## Create SQL-table in the database"
   ]
  },
  {
   "cell_type": "code",
   "execution_count": 3,
   "metadata": {},
   "outputs": [],
   "source": []
  },
  {
   "cell_type": "markdown",
   "metadata": {},
   "source": [
    "## Read data from file to data frame"
   ]
  },
  {
   "cell_type": "code",
   "execution_count": null,
   "metadata": {},
   "outputs": [],
   "source": [
    "\n",
    "\n",
    "\n",
    "\n",
    "\n"
   ]
  },
  {
   "cell_type": "code",
   "execution_count": null,
   "metadata": {},
   "outputs": [],
   "source": []
  }
 ],
 "metadata": {
  "kernelspec": {
   "display_name": "Python 3",
   "language": "python",
   "name": "python3"
  },
  "language_info": {
   "codemirror_mode": {
    "name": "ipython",
    "version": 3
   },
   "file_extension": ".py",
   "mimetype": "text/x-python",
   "name": "python",
   "nbconvert_exporter": "python",
   "pygments_lexer": "ipython3",
   "version": "3.12.1"
  }
 },
 "nbformat": 4,
 "nbformat_minor": 2
}
