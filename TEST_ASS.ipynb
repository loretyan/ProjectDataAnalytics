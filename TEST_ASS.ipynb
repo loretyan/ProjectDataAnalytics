{
 "cells": [
  {
   "cell_type": "markdown",
   "metadata": {},
   "source": [
    "### ASS"
   ]
  },
  {
   "cell_type": "markdown",
   "metadata": {},
   "source": [
    "###BETIM"
   ]
  },
  {
   "cell_type": "markdown",
   "metadata": {},
   "source": [
    "### Yannick"
   ]
  }
 ],
 "metadata": {
  "language_info": {
   "name": "python"
  }
 },
 "nbformat": 4,
 "nbformat_minor": 2
}
