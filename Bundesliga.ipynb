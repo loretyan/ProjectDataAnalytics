{
 "cells": [
  {
   "cell_type": "markdown",
   "metadata": {},
   "source": [
    "# Bundesliga\n",
    "Group-Nr. 17\n",
    "\n",
    "Betim Durmishi<br>\n",
    "durmibet@students.zhaw.ch<br>\n",
    "BA.WIN.23HS.VZa\n",
    "\n",
    "Simon Lindenmann<br>\n",
    "lindesi2@students.zhaw.ch<br>\n",
    "BA.WIN.23HS.VZa\n",
    "\n",
    "Yannick Loretan<br>\n",
    "loretyan@student.zhaw.ch<br>\n",
    "BA.WIN.23HS.VZa"
   ]
  },
  {
   "cell_type": "markdown",
   "metadata": {},
   "source": [
    "# Imports, libraries and setting"
   ]
  },
  {
   "cell_type": "code",
   "execution_count": 1,
   "metadata": {},
   "outputs": [
    {
     "ename": "ModuleNotFoundError",
     "evalue": "No module named 'folium'",
     "output_type": "error",
     "traceback": [
      "\u001b[0;31m---------------------------------------------------------------------------\u001b[0m",
      "\u001b[0;31mModuleNotFoundError\u001b[0m                       Traceback (most recent call last)",
      "Cell \u001b[0;32mIn[1], line 5\u001b[0m\n\u001b[1;32m      3\u001b[0m \u001b[38;5;28;01mimport\u001b[39;00m \u001b[38;5;21;01mnumpy\u001b[39;00m \u001b[38;5;28;01mas\u001b[39;00m \u001b[38;5;21;01mnp\u001b[39;00m\n\u001b[1;32m      4\u001b[0m \u001b[38;5;28;01mimport\u001b[39;00m \u001b[38;5;21;01mpandas\u001b[39;00m \u001b[38;5;28;01mas\u001b[39;00m \u001b[38;5;21;01mpd\u001b[39;00m\n\u001b[0;32m----> 5\u001b[0m \u001b[38;5;28;01mimport\u001b[39;00m \u001b[38;5;21;01mfolium\u001b[39;00m\n\u001b[1;32m      7\u001b[0m \u001b[38;5;66;03m# Ignore Warnings\u001b[39;00m\n\u001b[1;32m      8\u001b[0m \u001b[38;5;28;01mimport\u001b[39;00m \u001b[38;5;21;01mwarnings\u001b[39;00m\n",
      "\u001b[0;31mModuleNotFoundError\u001b[0m: No module named 'folium'"
     ]
    }
   ],
   "source": [
    "# Libraries\n",
    "import os\n",
    "import numpy as np\n",
    "import pandas as pd\n",
    "import folium\n",
    "\n",
    "# Ignore Warnings\n",
    "import warnings\n",
    "warnings.filterwarning('igrnore')\n",
    "\n",
    "#Show current working directory\n",
    "print(os.getcwd())"
   ]
  },
  {
   "cell_type": "markdown",
   "metadata": {},
   "source": [
    "# Create Dataframes"
   ]
  },
  {
   "cell_type": "code",
   "execution_count": null,
   "metadata": {},
   "outputs": [],
   "source": []
  },
  {
   "cell_type": "markdown",
   "metadata": {},
   "source": [
    "# Data preperation"
   ]
  },
  {
   "cell_type": "markdown",
   "metadata": {},
   "source": [
    "### Count, identify and remove missing values"
   ]
  },
  {
   "cell_type": "code",
   "execution_count": null,
   "metadata": {},
   "outputs": [],
   "source": []
  },
  {
   "cell_type": "markdown",
   "metadata": {},
   "source": [
    "### Count, identify and remove duplicated values"
   ]
  },
  {
   "cell_type": "code",
   "execution_count": null,
   "metadata": {},
   "outputs": [],
   "source": []
  },
  {
   "cell_type": "markdown",
   "metadata": {},
   "source": [
    "### Create new variables, enrich the data with open data"
   ]
  },
  {
   "cell_type": "code",
   "execution_count": null,
   "metadata": {},
   "outputs": [],
   "source": []
  },
  {
   "cell_type": "markdown",
   "metadata": {},
   "source": [
    "# Data storage in database"
   ]
  },
  {
   "cell_type": "markdown",
   "metadata": {},
   "source": [
    "### Create database"
   ]
  },
  {
   "cell_type": "code",
   "execution_count": null,
   "metadata": {},
   "outputs": [],
   "source": []
  },
  {
   "cell_type": "markdown",
   "metadata": {},
   "source": [
    "### Create ...-table in the database"
   ]
  },
  {
   "cell_type": "code",
   "execution_count": null,
   "metadata": {},
   "outputs": [],
   "source": []
  },
  {
   "cell_type": "markdown",
   "metadata": {},
   "source": [
    "### Read data from file to data frame"
   ]
  },
  {
   "cell_type": "code",
   "execution_count": null,
   "metadata": {},
   "outputs": [],
   "source": []
  },
  {
   "cell_type": "markdown",
   "metadata": {},
   "source": [
    "### Write data to the ...-table in data base"
   ]
  },
  {
   "cell_type": "code",
   "execution_count": null,
   "metadata": {},
   "outputs": [],
   "source": []
  },
  {
   "cell_type": "markdown",
   "metadata": {},
   "source": [
    "### Query the ...-table"
   ]
  },
  {
   "cell_type": "code",
   "execution_count": null,
   "metadata": {},
   "outputs": [],
   "source": []
  },
  {
   "cell_type": "markdown",
   "metadata": {},
   "source": [
    "# EDA"
   ]
  },
  {
   "cell_type": "markdown",
   "metadata": {},
   "source": [
    "## Univariete Non-Graphical EDA"
   ]
  },
  {
   "cell_type": "markdown",
   "metadata": {},
   "source": [
    "summary, mean, mode, std, groupby, aggregation, variance, value_count, corelation, covariance"
   ]
  },
  {
   "cell_type": "markdown",
   "metadata": {},
   "source": [
    "## Multivariate Graphical EDA"
   ]
  },
  {
   "cell_type": "markdown",
   "metadata": {},
   "source": [
    "plot, histogram, matplotlib, boxplot, seaborn, scatter"
   ]
  },
  {
   "cell_type": "markdown",
   "metadata": {},
   "source": [
    "# Regression Modeling"
   ]
  },
  {
   "cell_type": "markdown",
   "metadata": {},
   "source": [
    "## Lineaer Regression Model for..."
   ]
  },
  {
   "cell_type": "markdown",
   "metadata": {},
   "source": [
    " r-squared, mse"
   ]
  },
  {
   "cell_type": "markdown",
   "metadata": {},
   "source": [
    "## Random Forest Regression"
   ]
  },
  {
   "cell_type": "markdown",
   "metadata": {},
   "source": [
    "Weshalb wurde der Code im anderen Projekt genutzt? \n",
    "- Ein Random Forest Regressor wurde zur Vorhersage des Marktwerts verwendet, um nichtlineare Zusammenhänge besser abzubilden. (Feature Importance könnte man auch beachten)"
   ]
  },
  {
   "cell_type": "markdown",
   "metadata": {},
   "source": [
    "Als Orierntierung folgende Dateien aus den Übungen verwenden:\n",
    "- linear_regression.html\n",
    "- regression_trees_random_forest.html"
   ]
  },
  {
   "cell_type": "markdown",
   "metadata": {},
   "source": [
    "# k-means clustering (wird als Synonym für classification verwendet)"
   ]
  },
  {
   "cell_type": "markdown",
   "metadata": {},
   "source": [
    "Als Orientierung folgende Dateien aus den Übungen verwenden:\n",
    "- classification_analysis_supermarkets.html\n",
    "- classification_analysis_titanic.html\n",
    "- NLP_hotel_reviews_sentiment_prediction.html"
   ]
  },
  {
   "cell_type": "markdown",
   "metadata": {},
   "source": [
    "# Correct interpretation of model results and measures of fit."
   ]
  },
  {
   "cell_type": "markdown",
   "metadata": {},
   "source": [
    "Für Regression verwendete Metriken: MSE, R-squared, fit, Interpretation\n",
    "\n",
    "Für Classification verwendete Metriken: Accuracy, Precision, Recall, F1-Score, Confusion Matrix, MSE, R-squared, Model Evaluation\n",
    "\n",
    "Frage 6 wird auch von solchen Metriken gesprochen, die man verwenden soll/darf."
   ]
  },
  {
   "cell_type": "markdown",
   "metadata": {},
   "source": [
    "# Geographische Darstellung der Stadien"
   ]
  },
  {
   "cell_type": "code",
   "execution_count": null,
   "metadata": {},
   "outputs": [],
   "source": [
    "# CSV-Datei mit den Stadiondaten laden\n",
    "csv_file_path = \"stadien_map.csv\"\n",
    "stadion_data = pd.read_csv(csv_file_path)\n",
    "\n",
    "# Zentrum der Karte auf Deutschland setzen\n",
    "karte = folium.Map(location=[51.1657, 10.4515], zoom_start=6)\n",
    "\n",
    "# Marker für jedes Stadion hinzufügen\n",
    "for index, row in stadion_data.iterrows():\n",
    "    if not pd.isna(row[\"x-Koordinaten\"]) and not pd.isna(row[\"y-Koordinaten\"]):\n",
    "        folium.Marker(\n",
    "            location=[row[\"x-Koordinaten\"], row[\"y-Koordinaten\"]],\n",
    "            popup=f'{row[\"Verein\"]} - {row[\"Stadionname\"]}',\n",
    "            tooltip=row[\"Verein\"]\n",
    "        ).add_to(karte)\n",
    "\n",
    "# Karte als HTML speichern\n",
    "karte.save(\"Stadionkarte.html\")\n",
    "\n",
    "print(\"Die interaktive Stadionkarte wurde als 'Stadionkarte.html' gespeichert.\")"
   ]
  }
 ],
 "metadata": {
  "kernelspec": {
   "display_name": "Python 3",
   "language": "python",
   "name": "python3"
  },
  "language_info": {
   "codemirror_mode": {
    "name": "ipython",
    "version": 3
   },
   "file_extension": ".py",
   "mimetype": "text/x-python",
   "name": "python",
   "nbconvert_exporter": "python",
   "pygments_lexer": "ipython3",
   "version": "3.12.1"
  }
 },
 "nbformat": 4,
 "nbformat_minor": 2
}
