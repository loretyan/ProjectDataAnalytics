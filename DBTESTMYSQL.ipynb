{
 "cells": [
  {
   "cell_type": "markdown",
   "metadata": {},
   "source": [
    "## Libraries and settings"
   ]
  },
  {
   "cell_type": "code",
   "execution_count": 1,
   "metadata": {},
   "outputs": [
    {
     "name": "stdout",
     "output_type": "stream",
     "text": [
      "/workspaces/ProjectDataAnalytics\n"
     ]
    }
   ],
   "source": [
    "# Libraries\n",
    "import os\n",
    "import pymysql\n",
    "import fnmatch\n",
    "import numpy as np\n",
    "import pandas as pd\n",
    "import matplotlib.pyplot as plt\n",
    "\n",
    "# Ignore warnings\n",
    "import warnings\n",
    "warnings.filterwarnings(\"ignore\")\n",
    "\n",
    "# Function to close a MySQL db-connection\n",
    "def check_conn(conn):\n",
    "     try:\n",
    "        conn.cursor()\n",
    "        return True\n",
    "     except Exception as ex:\n",
    "        return False\n",
    "\n",
    "# Get current working directory\n",
    "print(os.getcwd())"
   ]
  },
  {
   "cell_type": "markdown",
   "metadata": {},
   "source": [
    "## Create MySQL data base"
   ]
  },
  {
   "cell_type": "code",
   "execution_count": 2,
   "metadata": {},
   "outputs": [
    {
     "name": "stdout",
     "output_type": "stream",
     "text": [
      "Error connecting to MySQL Platform: (2003, \"Can't connect to MySQL server on '127.0.0.1' ([Errno 111] Connection refused)\")\n"
     ]
    }
   ],
   "source": [
    "# Create data base\n",
    "try:\n",
    "    conn = pymysql.connect(host='127.0.0.1', user='root', password='Fickerverein777')\n",
    "    cursor = conn.cursor()\n",
    "    cursor.execute(\"CREATE DATABASE IF NOT EXISTS player_database\")\n",
    "    cursor.execute(\"USE player_database\")\n",
    "\n",
    "    # Show dbs in the directory\n",
    "    cursor.execute(\"SHOW DATABASES\")\n",
    "    for db in cursor.fetchall():\n",
    "        print(db)\n",
    "except pymysql.MySQLError as e:\n",
    "    print(f\"Error connecting to MySQL Platform: {e}\")\n",
    "finally:\n",
    "    if 'conn' in locals() and conn.open:\n",
    "        conn.close()"
   ]
  },
  {
   "cell_type": "markdown",
   "metadata": {},
   "source": [
    "## Create SQL-table in the database"
   ]
  },
  {
   "cell_type": "code",
   "execution_count": 3,
   "metadata": {},
   "outputs": [
    {
     "name": "stdout",
     "output_type": "stream",
     "text": [
      "Error: (2003, \"Can't connect to MySQL server on '127.0.0.1' ([Errno 111] Connection refused)\")\n"
     ]
    }
   ],
   "source": [
    "# Create tables\n",
    "try:\n",
    "    conn = pymysql.connect(host='127.0.0.1', user='root', password='Fickerverein777', database='player_database')\n",
    "    cursor = conn.cursor()\n",
    "    \n",
    "    cursor.execute('''CREATE TABLE IF NOT EXISTS verein_table (Vereinsname_ID VARCHAR(200) PRIMARY KEY)''')\n",
    "    \n",
    "    cursor.execute('''CREATE TABLE IF NOT EXISTS spieler_table (Spieler_id INT PRIMARY KEY,\n",
    "                                                               Name VARCHAR(200),\n",
    "                                                               Geburtsdatum DATE,\n",
    "                                                               Spieleralter INT,\n",
    "                                                               Geburtsort VARCHAR(200),\n",
    "                                                               Staatsbuergerschaft VARCHAR(100),\n",
    "                                                               Groesse_in_M DECIMAL(4,2),\n",
    "                                                               Position VARCHAR(200),\n",
    "                                                               Fuss VARCHAR(10),\n",
    "                                                               Vereinsname_ID VARCHAR(200),\n",
    "                                                               FOREIGN KEY (Vereinsname_ID) REFERENCES verein_table(Vereinsname_ID))''')\n",
    "    # Confirm changes to the table\n",
    "    conn.commit()\n",
    "except pymysql.MySQLError as e:\n",
    "    print(f\"Error: {e}\")\n",
    "finally:\n",
    "    if 'conn' in locals() and conn.open:\n",
    "        conn.close()"
   ]
  },
  {
   "cell_type": "markdown",
   "metadata": {},
   "source": [
    "## Read data from file to data frame"
   ]
  },
  {
   "cell_type": "code",
   "execution_count": 4,
   "metadata": {},
   "outputs": [
    {
     "name": "stdout",
     "output_type": "stream",
     "text": [
      "(18, 1)\n"
     ]
    },
    {
     "data": {
      "text/html": [
       "<div>\n",
       "<style scoped>\n",
       "    .dataframe tbody tr th:only-of-type {\n",
       "        vertical-align: middle;\n",
       "    }\n",
       "\n",
       "    .dataframe tbody tr th {\n",
       "        vertical-align: top;\n",
       "    }\n",
       "\n",
       "    .dataframe thead th {\n",
       "        text-align: right;\n",
       "    }\n",
       "</style>\n",
       "<table border=\"1\" class=\"dataframe\">\n",
       "  <thead>\n",
       "    <tr style=\"text-align: right;\">\n",
       "      <th></th>\n",
       "      <th>Vereinsname</th>\n",
       "    </tr>\n",
       "  </thead>\n",
       "  <tbody>\n",
       "    <tr>\n",
       "      <th>0</th>\n",
       "      <td>1.FC Heidenheim 1846</td>\n",
       "    </tr>\n",
       "    <tr>\n",
       "      <th>1</th>\n",
       "      <td>1.FC Union Berlin</td>\n",
       "    </tr>\n",
       "    <tr>\n",
       "      <th>2</th>\n",
       "      <td>1.FSV Mainz 05</td>\n",
       "    </tr>\n",
       "    <tr>\n",
       "      <th>3</th>\n",
       "      <td>Bayer 04 Leverkusen</td>\n",
       "    </tr>\n",
       "    <tr>\n",
       "      <th>4</th>\n",
       "      <td>Borussia Dortmund</td>\n",
       "    </tr>\n",
       "  </tbody>\n",
       "</table>\n",
       "</div>"
      ],
      "text/plain": [
       "            Vereinsname\n",
       "0  1.FC Heidenheim 1846\n",
       "1     1.FC Union Berlin\n",
       "2        1.FSV Mainz 05\n",
       "3   Bayer 04 Leverkusen\n",
       "4     Borussia Dortmund"
      ]
     },
     "execution_count": 4,
     "metadata": {},
     "output_type": "execute_result"
    }
   ],
   "source": [
    "df = pd.read_csv('spieler_profil.csv', \n",
    "                  sep=';', \n",
    "                  encoding='utf-8')[['Vereinsname']]\n",
    "\n",
    "vereine_df = df[['Vereinsname']].drop_duplicates().reset_index(drop=True)\n",
    "print(vereine_df.shape)\n",
    "vereine_df.head(5)"
   ]
  },
  {
   "cell_type": "code",
   "execution_count": 5,
   "metadata": {},
   "outputs": [
    {
     "name": "stdout",
     "output_type": "stream",
     "text": [
      "(506, 10)\n"
     ]
    },
    {
     "data": {
      "text/html": [
       "<div>\n",
       "<style scoped>\n",
       "    .dataframe tbody tr th:only-of-type {\n",
       "        vertical-align: middle;\n",
       "    }\n",
       "\n",
       "    .dataframe tbody tr th {\n",
       "        vertical-align: top;\n",
       "    }\n",
       "\n",
       "    .dataframe thead th {\n",
       "        text-align: right;\n",
       "    }\n",
       "</style>\n",
       "<table border=\"1\" class=\"dataframe\">\n",
       "  <thead>\n",
       "    <tr style=\"text-align: right;\">\n",
       "      <th></th>\n",
       "      <th>Spieler_id</th>\n",
       "      <th>Name</th>\n",
       "      <th>Geburtsdatum</th>\n",
       "      <th>Spieleralter</th>\n",
       "      <th>Geburtsort</th>\n",
       "      <th>Staatsbuergerschaft</th>\n",
       "      <th>Groesse_in_M</th>\n",
       "      <th>Position</th>\n",
       "      <th>Fuss</th>\n",
       "      <th>Vereinsname</th>\n",
       "    </tr>\n",
       "  </thead>\n",
       "  <tbody>\n",
       "    <tr>\n",
       "      <th>0</th>\n",
       "      <td>43824</td>\n",
       "      <td>Kevin Muller</td>\n",
       "      <td>15.03.1991</td>\n",
       "      <td>33</td>\n",
       "      <td>Rostock</td>\n",
       "      <td>Deutschland</td>\n",
       "      <td>1.90</td>\n",
       "      <td>Torwart</td>\n",
       "      <td>rechts</td>\n",
       "      <td>1.FC Heidenheim 1846</td>\n",
       "    </tr>\n",
       "    <tr>\n",
       "      <th>1</th>\n",
       "      <td>806948</td>\n",
       "      <td>Frank Feller</td>\n",
       "      <td>07.01.2004</td>\n",
       "      <td>21</td>\n",
       "      <td>Leonberg</td>\n",
       "      <td>Deutschland</td>\n",
       "      <td>1.83</td>\n",
       "      <td>Torwart</td>\n",
       "      <td>rechts</td>\n",
       "      <td>1.FC Heidenheim 1846</td>\n",
       "    </tr>\n",
       "    <tr>\n",
       "      <th>2</th>\n",
       "      <td>57796</td>\n",
       "      <td>Vitus Eicher</td>\n",
       "      <td>05.11.1990</td>\n",
       "      <td>34</td>\n",
       "      <td>Erding</td>\n",
       "      <td>Deutschland</td>\n",
       "      <td>1.91</td>\n",
       "      <td>Torwart</td>\n",
       "      <td>links</td>\n",
       "      <td>1.FC Heidenheim 1846</td>\n",
       "    </tr>\n",
       "    <tr>\n",
       "      <th>3</th>\n",
       "      <td>519035</td>\n",
       "      <td>Paul Tschernuth</td>\n",
       "      <td>20.01.2002</td>\n",
       "      <td>22</td>\n",
       "      <td>Salzburg</td>\n",
       "      <td>Oesterreich</td>\n",
       "      <td>1.86</td>\n",
       "      <td>Torwart</td>\n",
       "      <td>links</td>\n",
       "      <td>1.FC Heidenheim 1846</td>\n",
       "    </tr>\n",
       "    <tr>\n",
       "      <th>4</th>\n",
       "      <td>227084</td>\n",
       "      <td>Benedikt Gimber</td>\n",
       "      <td>19.02.1997</td>\n",
       "      <td>27</td>\n",
       "      <td>Buchen</td>\n",
       "      <td>Deutschland</td>\n",
       "      <td>1.87</td>\n",
       "      <td>Abwehr - Innenverteidiger</td>\n",
       "      <td>links</td>\n",
       "      <td>1.FC Heidenheim 1846</td>\n",
       "    </tr>\n",
       "  </tbody>\n",
       "</table>\n",
       "</div>"
      ],
      "text/plain": [
       "   Spieler_id             Name Geburtsdatum Spieleralter Geburtsort  \\\n",
       "0       43824     Kevin Muller   15.03.1991           33    Rostock   \n",
       "1      806948     Frank Feller   07.01.2004           21   Leonberg   \n",
       "2       57796     Vitus Eicher   05.11.1990           34     Erding   \n",
       "3      519035  Paul Tschernuth   20.01.2002           22   Salzburg   \n",
       "4      227084  Benedikt Gimber   19.02.1997           27     Buchen   \n",
       "\n",
       "  Staatsbuergerschaft  Groesse_in_M                   Position    Fuss  \\\n",
       "0         Deutschland          1.90                    Torwart  rechts   \n",
       "1         Deutschland          1.83                    Torwart  rechts   \n",
       "2         Deutschland          1.91                    Torwart   links   \n",
       "3         Oesterreich          1.86                    Torwart   links   \n",
       "4         Deutschland          1.87  Abwehr - Innenverteidiger   links   \n",
       "\n",
       "            Vereinsname  \n",
       "0  1.FC Heidenheim 1846  \n",
       "1  1.FC Heidenheim 1846  \n",
       "2  1.FC Heidenheim 1846  \n",
       "3  1.FC Heidenheim 1846  \n",
       "4  1.FC Heidenheim 1846  "
      ]
     },
     "execution_count": 5,
     "metadata": {},
     "output_type": "execute_result"
    }
   ],
   "source": [
    "df = pd.read_csv('spieler_profil.csv', \n",
    "                  sep=';', \n",
    "                  encoding='utf-8')[['Vereinsname', 'Spieler_id', 'Name', 'Geburtsdatum', 'Spieleralter', 'Geburtsort', 'Staatsbuergerschaft', 'Groesse_in_M', 'Position', 'Fuss']]\n",
    "\n",
    "\n",
    "spieler_df = df[['Spieler_id',\n",
    "                 'Name',\n",
    "                 'Geburtsdatum',\n",
    "                 'Spieleralter',\n",
    "                 'Geburtsort',\n",
    "                 'Staatsbuergerschaft',\n",
    "                 'Groesse_in_M',\n",
    "                 'Position',\n",
    "                 'Fuss',\n",
    "                 'Vereinsname']]\n",
    "print(spieler_df.shape)\n",
    "spieler_df.head(5)"
   ]
  }
 ],
 "metadata": {
  "kernelspec": {
   "display_name": "Python 3",
   "language": "python",
   "name": "python3"
  },
  "language_info": {
   "codemirror_mode": {
    "name": "ipython",
    "version": 3
   },
   "file_extension": ".py",
   "mimetype": "text/x-python",
   "name": "python",
   "nbconvert_exporter": "python",
   "pygments_lexer": "ipython3",
   "version": "3.12.1"
  }
 },
 "nbformat": 4,
 "nbformat_minor": 2
}
